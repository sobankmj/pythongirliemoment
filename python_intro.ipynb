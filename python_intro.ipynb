{
  "cells": [
    {
      "cell_type": "markdown",
      "metadata": {
        "id": "view-in-github",
        "colab_type": "text"
      },
      "source": [
        "<a href=\"https://colab.research.google.com/github/sobankmj/pythongirliemoment/blob/main/python_intro.ipynb\" target=\"_parent\"><img src=\"https://colab.research.google.com/assets/colab-badge.svg\" alt=\"Open In Colab\"/></a>"
      ]
    },
    {
      "cell_type": "markdown",
      "metadata": {
        "id": "MBrbkY5euqtY"
      },
      "source": [
        "Welcome to the Google Colab programming environment. This is a virtual environment hosted where you can run Python programs without installing a bunch of new stuff to your computer.  \n",
        "\n",
        "We're using a Jupyter Notebook (file extension .ipynb): this is an interactive visual interface for running code.\n",
        "\n",
        "In between the text blocks like this one, you'll see empty \"cells\" formatted as input lines. Enter Python code in those cells, following the instructions in the text blocks above them. To run the code you wrote, click the \"Run\" button to the left of the cell or type Shift + Return.\n",
        "\n",
        "\n",
        "Try it now!  Type this phrase in the code cell below.  \n",
        "\n",
        "\n",
        "    print('Hello world!')\n"
      ]
    },
    {
      "cell_type": "code",
      "execution_count": 1,
      "metadata": {
        "id": "tXN3PAymuqtj",
        "outputId": "03758558-f14f-40a6-d5f7-95194bcada7d",
        "colab": {
          "base_uri": "https://localhost:8080/"
        }
      },
      "outputs": [
        {
          "output_type": "stream",
          "name": "stdout",
          "text": [
            "Hello world!\n"
          ]
        }
      ],
      "source": [
        "print('Hello world!')"
      ]
    },
    {
      "cell_type": "markdown",
      "metadata": {
        "id": "EYUNSjqTuqtk"
      },
      "source": [
        "If you've never written computer code before, now you have!  You just told Python to print out the value inside the parentheses. In this case, that value is the string 'Hello world'.  Anything within quotation marks is parsed by Python as a string. Python also recognizes numerical values, such as integers (whole numbers) and 'floats' (decimal numbers).  Try this, and see if you can predict what will happen:\n",
        "\n",
        "    print(1 + 3)\n",
        "\n",
        "    print('1 + 3')\n"
      ]
    },
    {
      "cell_type": "code",
      "execution_count": null,
      "metadata": {
        "id": "hcxwtBOnuqtk"
      },
      "outputs": [],
      "source": [
        "print(1 + 3)"
      ]
    },
    {
      "cell_type": "markdown",
      "metadata": {
        "id": "fDGZyXBfuqtl"
      },
      "source": [
        "Value types and variables\n",
        "---"
      ]
    },
    {
      "cell_type": "markdown",
      "metadata": {
        "id": "01Iw6MLGuqtl"
      },
      "source": [
        "If you ever have a quesiton about the what kind of value you're working with, you can check it with the *type()* function. Try this:\n",
        "\n",
        "    print(type(3))\n"
      ]
    },
    {
      "cell_type": "code",
      "execution_count": null,
      "metadata": {
        "id": "ko6-frk7uqtm"
      },
      "outputs": [],
      "source": [
        "print(type(False))"
      ]
    },
    {
      "cell_type": "markdown",
      "metadata": {
        "id": "aicE128ruqtp"
      },
      "source": [
        "In this case, you asked Python to 1) interpret the type of the value within parentheses, and 2) print the result. You're using two nested functions: print() and type().\n",
        "\n",
        "If you're interested, a list of additional built-in Python functions is available here: https://docs.python.org/3/library/functions.html\n",
        "\n",
        "\n",
        "Next, try setting a variable:\n",
        "\n",
        "    a = 'mongoose'\n",
        "\n",
        "    print(a)\n",
        "\n",
        "    print(type(a))\n"
      ]
    },
    {
      "cell_type": "code",
      "execution_count": null,
      "metadata": {
        "id": "5f_jQkr8uqtq"
      },
      "outputs": [],
      "source": [
        "a = 'mongoose'\n",
        "\n",
        "print(a)\n",
        "\n",
        "print(type(a))"
      ]
    },
    {
      "cell_type": "markdown",
      "metadata": {
        "id": "FJNqSYSiuqtq"
      },
      "source": [
        "Notice that the variable *a* is treated as equivalent to the string 'mongoose'; the type of the variable is 'str,' or string.\n"
      ]
    },
    {
      "cell_type": "markdown",
      "metadata": {
        "id": "eIQoKxK0uqtr"
      },
      "source": [
        "There are lots of rules and guidelines for how to name variables in Python, but don't worry about them too much until you're writing your own programs outside this worksheet. For now, just know that in Python the variable name always goes on the left side of the assignment statement (eg x = y), and the value assigned to that variable name goes on the right.\n",
        "\n",
        "You can reassign and change variables anytime. A new variable assignment overwrites the previous one.\n",
        "\n",
        "Try this:\n",
        "\n",
        "    a = 'mongoose'\n",
        "\n",
        "    a = 'squid'\n",
        "\n",
        "    print(a)\n"
      ]
    },
    {
      "cell_type": "code",
      "execution_count": null,
      "metadata": {
        "id": "YP6QW3Esuqtr"
      },
      "outputs": [],
      "source": [
        "a = 'mongoose'\n",
        "\n",
        "print(a)\n",
        "\n",
        "a = 'squid'\n",
        "\n",
        "print(a)"
      ]
    },
    {
      "cell_type": "markdown",
      "metadata": {
        "id": "obO9FNZ1uqts"
      },
      "source": [
        "Python is smart about figuring out what value types it's working with and understanding what it can and can't do with those values. Try:\n",
        "\n",
        "    a = 'mongoose'\n",
        "\n",
        "    b = 1\n",
        "\n",
        "    c = '2'\n",
        "\n",
        "\n",
        "    print(a + b)\n",
        "    "
      ]
    },
    {
      "cell_type": "code",
      "execution_count": null,
      "metadata": {
        "id": "9upZnzDjuqtw"
      },
      "outputs": [],
      "source": [
        "a = 'mongoose'\n",
        "b = 1\n",
        "c = '2'\n",
        "print(a + str(b))"
      ]
    },
    {
      "cell_type": "markdown",
      "metadata": {
        "id": "szsYxkD2uqtx"
      },
      "source": [
        "In the code cell above, you should see a \"Traceback\" error message - Python is letting you know that something didn't work in your code, and explaining why it broke down. In this case, you tried to add two unlike values -- the value for c, '2', is a string, not an integer -- it's in quotation marks. But you can convert the value type with another operation:\n",
        "\n",
        "\n",
        "  print(b + (int(c)))"
      ]
    },
    {
      "cell_type": "code",
      "execution_count": null,
      "metadata": {
        "id": "17UMK1xcuqtx"
      },
      "outputs": [],
      "source": []
    },
    {
      "cell_type": "markdown",
      "metadata": {
        "id": "aRa79Gp-uqtx"
      },
      "source": [
        "Here you converted the value of c, '2', from a string into an integer with the int() operation, and then b and c could be added together.\n",
        "\n",
        "Note that you have a number of nested operations in this line above: printing, addition, and value type conversion. This makes for a lot of close-parentheses on the end of the line, but that's the only way to let Python know your request is complete.\n",
        "\n",
        "Interestingly enough, Python can add strings together, too.  This is called string concatenation, and it uses the + sign. Try this:\n",
        "\n",
        "  print(a + c)"
      ]
    },
    {
      "cell_type": "code",
      "execution_count": null,
      "metadata": {
        "id": "YNVn7vRUuqty"
      },
      "outputs": [],
      "source": []
    },
    {
      "cell_type": "markdown",
      "metadata": {
        "id": "tAJVdsVtuqty"
      },
      "source": [
        "Notice there's no space added between the original strings - they're merged into a single string.  To print both values with a space between them, try:\n",
        "\n",
        "    print(a, c)"
      ]
    },
    {
      "cell_type": "code",
      "execution_count": null,
      "metadata": {
        "id": "h5iaQBzWuqty"
      },
      "outputs": [],
      "source": []
    },
    {
      "cell_type": "markdown",
      "metadata": {
        "id": "QD9ZOdPeuqtz"
      },
      "source": [
        "Note that the values for a, b, and c have remained consistent since you first set them, but you can change the value of a variable.\n",
        "\n",
        "Try this:\n",
        "\n",
        "    b = b + 1\n",
        "\n",
        "    b = b - 5\n",
        "\n",
        "    print(b)"
      ]
    },
    {
      "cell_type": "code",
      "execution_count": null,
      "metadata": {
        "id": "uXsZKXHouqtz"
      },
      "outputs": [],
      "source": [
        "b += 1\n",
        "\n",
        "b = b - 5\n",
        "\n",
        "print(b)"
      ]
    },
    {
      "cell_type": "markdown",
      "metadata": {
        "id": "YpzB7q-Yuqtz"
      },
      "source": [
        "It can be very handy to assign variables to keep count of things for you.  We'll come back to this later.\n"
      ]
    },
    {
      "cell_type": "markdown",
      "metadata": {
        "id": "pI1iifM3uqtz"
      },
      "source": [
        "Boolean values\n",
        "--"
      ]
    },
    {
      "cell_type": "markdown",
      "metadata": {
        "id": "uHHebJEjuqtz"
      },
      "source": [
        "Python also recognizes boolean operators and logical statements.\n",
        "\n",
        "When asking Python to assess the truth value (ie True or False) of a statement, use TWO equals signs: == .  \n",
        "That's how you let Python know you want to test a truth statement, not assign an new variable.\n",
        "\n",
        "Try this, and remember that the value of *b* is the same as it was in the last code cell.\n",
        "\n",
        "    b == 10\n"
      ]
    },
    {
      "cell_type": "code",
      "execution_count": null,
      "metadata": {
        "id": "IDysi0Inuqt0"
      },
      "outputs": [],
      "source": [
        "b != 10"
      ]
    },
    {
      "cell_type": "markdown",
      "metadata": {
        "id": "4UjiLwhiuqt0"
      },
      "source": [
        "Now type and run this, preserving the indentations and punctuation:\n",
        "\n",
        "    if b < 0:  \n",
        "\n",
        "      print('b is less than zero')    \n",
        "    \n",
        "      print('b is a negative number')  "
      ]
    },
    {
      "cell_type": "code",
      "execution_count": null,
      "metadata": {
        "id": "rcrBVFWUuqt0"
      },
      "outputs": [],
      "source": []
    },
    {
      "cell_type": "markdown",
      "metadata": {
        "id": "mpwiMXCfuqt0"
      },
      "source": [
        "If statements\n",
        "--"
      ]
    },
    {
      "cell_type": "markdown",
      "metadata": {
        "id": "WygBxe-0uqt0"
      },
      "source": [
        "Note the syntax of the **if statement** above.  Start with 'if' in lower case, then give the expression whose truth value you're testing (in this case, b<0), and finish with a colon.  Then skip a line and indent and give the operation you want Python to run if the if-statement is true.  The indent lets you see at a glance that the indented operation will only happen if some other condition is met.\n",
        "\n",
        "You can write longer if-statements using the terms **elif** (a contraction of else-if) and **else**. Here's an example:  \n",
        "\n",
        "    z = 99  \n",
        "\n",
        "    if z > 100:  \n",
        "\n",
        "      print(\"Big number.\")  \n",
        "    \n",
        "    elif z < 75:  \n",
        "\n",
        "      print(\"Ok.\")  \n",
        "    \n",
        "    else:  \n",
        "\n",
        "      print(\"Middling.\")"
      ]
    },
    {
      "cell_type": "code",
      "execution_count": null,
      "metadata": {
        "id": "2K2fPnC8uqt1"
      },
      "outputs": [],
      "source": []
    },
    {
      "cell_type": "markdown",
      "metadata": {
        "id": "Lppvzgcuuqt1"
      },
      "source": [
        "Feel free to play around with your own variations on these suggestions so far.  Your Jupyter Notebook cells will run any valid Python code.  "
      ]
    },
    {
      "cell_type": "markdown",
      "metadata": {
        "id": "dnNQXF2Puqt1"
      },
      "source": [
        "The Input Function\n",
        "--"
      ]
    },
    {
      "cell_type": "markdown",
      "metadata": {
        "id": "ylTizsOwuqt1"
      },
      "source": [
        "Fun fact: you can write a simple text-based choose-your-own-adventure game in Python using conditional statements, the print function, and the **input function**.\n",
        "\n",
        "The input function asks for typed input from a user and incorporates that input into the program. Assign the input to a variable, and use that variable in your if-statements. Note that input values always start out as strings, so you'll need to convert them to integer or float val you want to treat them as numbers. Try this:\n",
        "\n",
        "    x = input('Pick a number.')  \n",
        "\n",
        "    if int(x) > 3:  \n",
        "\n",
        "      print(\"Too high.\")  \n",
        "   \n",
        "    elif int(x) < 3:  \n",
        "\n",
        "      print(\"Too low.\")\n",
        "        \n",
        "    else:  \n",
        "\n",
        "      print(\"That's a magic number!\")\n"
      ]
    },
    {
      "cell_type": "code",
      "execution_count": null,
      "metadata": {
        "id": "j0W0uCl_uqt2"
      },
      "outputs": [],
      "source": [
        "z = 102\n",
        "\n",
        "if z > 100:\n",
        "  print(\"Big number.\")\n",
        "  print(\"they can be 2 lines\")\n",
        "else:\n",
        "  print(\"this always runs if z is <= 100\")"
      ]
    },
    {
      "cell_type": "markdown",
      "metadata": {
        "id": "iVr4ggw-uqt2"
      },
      "source": [
        "Strings\n",
        "--"
      ]
    },
    {
      "cell_type": "markdown",
      "metadata": {
        "id": "E3rKN4bzuqt2"
      },
      "source": [
        "A string in Python is a **sequence** of characters enclosed by single or double quotation marks. A sequence is an excellent and elegant way to store data. Here are some examples of how you can treat a character string in Python as sequential data.\n",
        "\n",
        "Try this:\n",
        "\n",
        "    a = \"waterlily\"  \n",
        "\n",
        "    print(len(a))"
      ]
    },
    {
      "cell_type": "code",
      "execution_count": null,
      "metadata": {
        "id": "g79RayM6uqt3"
      },
      "outputs": [],
      "source": [
        "a = \"waterlily\"\n",
        "print(len(a))"
      ]
    },
    {
      "cell_type": "markdown",
      "metadata": {
        "id": "8s5F71_Puqt3"
      },
      "source": [
        "len() is the length function. You just asked Python to tell you the number of items - i.e., characters - in the sequence that is a.\n",
        "\n",
        "Python will index the items in a sequence by number, starting with zero. That is to say, the first item in a sequence is indexed at 0. In the case of of the string 'waterlily', the item at index [0] is 'w'. Use square brackets to enclose the index number.\n",
        "\n",
        "Try these examples:\n",
        "\n",
        "    print(a[0])  \n",
        "\n",
        "    print(a[4])  \n",
        "\n",
        "    print(a[-1])  \n"
      ]
    },
    {
      "cell_type": "code",
      "execution_count": null,
      "metadata": {
        "id": "fddO4Ml9uqt3"
      },
      "outputs": [],
      "source": [
        "print(a[-0])"
      ]
    },
    {
      "cell_type": "markdown",
      "metadata": {
        "id": "ZGpuykEJuqt4"
      },
      "source": [
        "Note that using an index of [-1] can be a convenient way to find the last item in a sequence.\n",
        "\n",
        "\n",
        "You can use a variation of indexing to return a slice of items in a sequence; this is called... slicing. Give Python an index range with endpoints separated by a colon; Python will begin at the first term, and return items up to but not including the second term. If you leave one side blank, Python will automatically use the first or last item of the sequence.\n",
        "\n",
        "    print(a[2:5])  \n",
        "\n",
        "    print(a[:6])  \n",
        "\n",
        "    print(a[3:])"
      ]
    },
    {
      "cell_type": "code",
      "execution_count": null,
      "metadata": {
        "id": "qOB3uL-Suqt4"
      },
      "outputs": [],
      "source": [
        "print(a[2:5])\n",
        "\n",
        "print(a[:6])\n",
        "\n",
        "print(a[:])"
      ]
    },
    {
      "cell_type": "markdown",
      "source": [
        "There are many useful built-in methods ([methods are functions that \"belong\" to an object](https://www.w3schools.com/python/gloss_python_object_methods.asp)) that you can use to work with strings! You use methods by attaching them to appropriately-typed objects with a period. For example, if you want to **replace** every instance of one character in a string with a different character, there's a method for that:\n",
        "\n",
        "```\n",
        "sentence = \"This_is_a_sentence_but_for_some_reason_it_has_underscores,_not_spaces.\"\n",
        "\n",
        "sentence = sentence.replace(\"_\", \" \")\n",
        "\n",
        "print(sentence)\n",
        "```\n",
        "\n",
        "The **replace** method requires two arguments: first, the character to be replaced, and second, the character to replace it with."
      ],
      "metadata": {
        "id": "zLgvj1VqO0-F"
      }
    },
    {
      "cell_type": "code",
      "source": [],
      "metadata": {
        "id": "68PeOYAYP6D7"
      },
      "execution_count": null,
      "outputs": []
    },
    {
      "cell_type": "markdown",
      "source": [
        "There's also a built-in method to search strings for the index of a sub-string (a shorter string contained inside). What if you had a big block of text and wanted to **find** something specific?\n",
        "\n",
        "```\n",
        "sentence = \"Once upon a time there was a little puppy named Lainey.\"\n",
        "\n",
        "puppy = sentence.find(\"Lainey\")\n",
        "\n",
        "print(puppy)\n",
        "```\n",
        "\n",
        "The **find** method only requires one argument: the sub-string to search a larger string for. See what happens if you try to find a sub-string that doesn't appear inside the larger string!"
      ],
      "metadata": {
        "id": "q0_nXVNSQFIR"
      }
    },
    {
      "cell_type": "code",
      "source": [],
      "metadata": {
        "id": "vGAjaEmmRpbP"
      },
      "execution_count": null,
      "outputs": []
    },
    {
      "cell_type": "markdown",
      "source": [
        "Or what if you wanted to **split** a string into its component parts? As you've probably guessed by now, there's a method for that too:\n",
        "\n",
        "```\n",
        "sentence = \"Sentences are just lists of words!\"\n",
        "\n",
        "words = sentence.split(\" \")\n",
        "\n",
        "print(words)\n",
        "```\n",
        "\n",
        "The **split** method takes one argument: the character that you want to use to split the string. It returns a *list* containing each sub-string that appears between the character in question. More on lists very soon!"
      ],
      "metadata": {
        "id": "-g9qvbzOSB4b"
      }
    },
    {
      "cell_type": "code",
      "source": [],
      "metadata": {
        "id": "Poe2iZsCTAiv"
      },
      "execution_count": null,
      "outputs": []
    },
    {
      "cell_type": "markdown",
      "source": [
        "# Lists"
      ],
      "metadata": {
        "id": "vuJio_Y3TIWk"
      }
    },
    {
      "cell_type": "markdown",
      "source": [
        "*Lists* are one of the most common and useful Python data structures around. They're exactly what they sound like: a list of *elements* that can be of any data type (and don't all have to be of the same type). Each element in a list has and index, and lists are zero-indexed like strings so the first element in a list has an index of 0. Lists are created by enclosing elements in square brackets and separating them with commas:\n",
        "\n",
        "```\n",
        "my_first_list = [1, 2, 3]\n",
        "\n",
        "print(my_first_list)\n",
        "```\n",
        "\n",
        "How would you print out only the second element in this list?"
      ],
      "metadata": {
        "id": "2zdzVQo5TMH3"
      }
    },
    {
      "cell_type": "code",
      "source": [
        "my_first_list = [1, 2, 3]\n",
        "\n",
        "print(my_first_list + 4)"
      ],
      "metadata": {
        "id": "rN5PGxQKUAg1"
      },
      "execution_count": null,
      "outputs": []
    },
    {
      "cell_type": "markdown",
      "source": [
        "You can use the **append** method to add an element to the list:\n",
        "\n",
        "```\n",
        "my_first_list.append(4)\n",
        "\n",
        "print(my_first_list)\n",
        "```\n",
        "\n",
        "Or the **pop** method to remove a specific element, specified by its index, from the list:\n",
        "\n",
        "```\n",
        "my_first_list.pop(2)\n",
        "\n",
        "print(my_first_list)\n",
        "```\n",
        "\n",
        "What do you think will be the value of the element at index 2 in this list after you enter and run all four of the lines above?"
      ],
      "metadata": {
        "id": "QS4yDp-YUIUK"
      }
    },
    {
      "cell_type": "code",
      "source": [
        "#my_first_list.append([3, 4])\n",
        "\n",
        "print(my_first_list)"
      ],
      "metadata": {
        "id": "AgwGLfqwUzRh"
      },
      "execution_count": null,
      "outputs": []
    },
    {
      "cell_type": "markdown",
      "source": [
        "If you have a long list and are looking for the **index** of a specific element, you can do that too:\n",
        "\n",
        "```\n",
        "numbers = [x for x in range(100)]\n",
        "\n",
        "print(numbers.index(45))\n",
        "```\n",
        "\n",
        "The way we created the list here uses an intermediate technique called a [list comprehension](https://www.w3schools.com/python/python_lists_comprehension.asp). See what happens if you try to use **index** to find the position of an element that isn't actuallly in the list!"
      ],
      "metadata": {
        "id": "lVjxKuuTVJYQ"
      }
    },
    {
      "cell_type": "code",
      "source": [],
      "metadata": {
        "id": "YntjoEhmV-0s"
      },
      "execution_count": null,
      "outputs": []
    },
    {
      "cell_type": "markdown",
      "source": [
        "# Dictionaries"
      ],
      "metadata": {
        "id": "2AEtURWoWJma"
      }
    },
    {
      "cell_type": "markdown",
      "source": [
        "If you have data that needs just a bit more context than a list can provide, you can use another extremely useful Python data structure called a *dictionary*. Dictionaries allow you to pair pieces of information, conventionally known in this context as *values*, with labels that describe them, conventionally known in this contexts as *keys*. Dictionaries are created by enclosing key-value pairs with curly brackets. Once you've created a dictionary, you can access the value of specific keys using index notation. For example:\n",
        "\n",
        "```\n",
        "my_pet = {\"name\": \"Lainey\", \"species\": \"dog\", \"age\": 0, \"friendly\": True}\n",
        "\n",
        "print(my_pet[\"name\"])\n",
        "```"
      ],
      "metadata": {
        "id": "oElL7zuFWL0_"
      }
    },
    {
      "cell_type": "code",
      "source": [
        "my_pet = {\"name\": \"Lainey\", \"species\": \"dog\", \"age\": 0, \"friendly\": True}\n",
        "\n",
        "print(my_pet[\"name\"])"
      ],
      "metadata": {
        "id": "ZOsJEEx2XQcr",
        "colab": {
          "base_uri": "https://localhost:8080/"
        },
        "outputId": "e553c86e-687d-4e43-d976-dd610daa4827"
      },
      "execution_count": null,
      "outputs": [
        {
          "output_type": "stream",
          "name": "stdout",
          "text": [
            "Lainey\n"
          ]
        }
      ]
    },
    {
      "cell_type": "markdown",
      "source": [
        "Best of all, dictionaries and lists can work together! You could have a list of dictionaries or (less frequently) a dictionary of lists:\n",
        "\n",
        "```\n",
        "my_other_pet = {\"name\": \"Tyrion\", \"species\": \"dog\", \"age\": 9, \"friendly\": \"kind of\"}\n",
        "\n",
        "my_pets = [my_pet, my_other_pet]\n",
        "\n",
        "print(my_pets[0], my_pets[1])\n",
        "```\n"
      ],
      "metadata": {
        "id": "c4SBS1WJXUGT"
      }
    },
    {
      "cell_type": "code",
      "source": [
        "my_other_pet = {\"name\": \"Tyrion\", \"species\": \"dog\", \"age\": 9, \"friendly\": \"kind of\"}\n",
        "\n",
        "my_pets = [my_pet, my_other_pet]\n",
        "\n",
        "print(my_pets[0],my_pets[1]['friendly'])"
      ],
      "metadata": {
        "id": "_EHGVV7MYGq_",
        "colab": {
          "base_uri": "https://localhost:8080/"
        },
        "outputId": "908e23a9-78b6-4c34-fe60-30d33a2157a5"
      },
      "execution_count": null,
      "outputs": [
        {
          "output_type": "stream",
          "name": "stdout",
          "text": [
            "{'name': 'Lainey', 'species': 'dog', 'age': 0, 'friendly': True} kind of\n"
          ]
        }
      ]
    },
    {
      "cell_type": "markdown",
      "source": [
        "\n",
        "The true power of Python starts to become clear when you learn how to combine different data structures with things like if statements or *loops* to accomplish increasingly complicated tasks. More on loops below..."
      ],
      "metadata": {
        "id": "qRntsdb9YJQ7"
      }
    },
    {
      "cell_type": "markdown",
      "source": [
        "# Tuples"
      ],
      "metadata": {
        "id": "LF_EzQv-L_ML"
      }
    },
    {
      "cell_type": "markdown",
      "source": [
        "A tuple is similar to a list, but with one key difference: tuples are **immutable**, meaning that once you create a tuple, you cannot change its values.\n",
        "\n",
        "Tuples are useful for storing data that shouldn't change. For example, we might want to store biological information like the coordinates of a gene on a chromosome, which are fixed.\n",
        "\n",
        "**Example: Storing gene coordinates**"
      ],
      "metadata": {
        "id": "TsuzBYZLMJwD"
      }
    },
    {
      "cell_type": "code",
      "source": [
        "# Tuple of gene coordinates on a chromosome (start, end)\n",
        "gene_coords = (1200, 1500)\n",
        "\n",
        "# Accessing tuple elements\n",
        "print(\"Gene start:\", gene_coords[0])\n",
        "print(\"Gene end:\", gene_coords[1])\n",
        "\n",
        "# Trying to modify a tuple (this will raise an error)\n",
        "gene_coords[0] = 1300  # Uncommenting this will cause an error because tuples are immutable."
      ],
      "metadata": {
        "id": "BbczoF6CMVdz",
        "colab": {
          "base_uri": "https://localhost:8080/",
          "height": 211
        },
        "outputId": "6b98ac55-fdc3-4e88-d3c5-f7eaaa255e7b"
      },
      "execution_count": null,
      "outputs": [
        {
          "output_type": "stream",
          "name": "stdout",
          "text": [
            "Gene start: 1200\n",
            "Gene end: 1500\n"
          ]
        },
        {
          "output_type": "error",
          "ename": "TypeError",
          "evalue": "'tuple' object does not support item assignment",
          "traceback": [
            "\u001b[0;31m---------------------------------------------------------------------------\u001b[0m",
            "\u001b[0;31mTypeError\u001b[0m                                 Traceback (most recent call last)",
            "\u001b[0;32m<ipython-input-5-75beb7e73f18>\u001b[0m in \u001b[0;36m<cell line: 9>\u001b[0;34m()\u001b[0m\n\u001b[1;32m      7\u001b[0m \u001b[0;34m\u001b[0m\u001b[0m\n\u001b[1;32m      8\u001b[0m \u001b[0;31m# Trying to modify a tuple (this will raise an error)\u001b[0m\u001b[0;34m\u001b[0m\u001b[0;34m\u001b[0m\u001b[0m\n\u001b[0;32m----> 9\u001b[0;31m \u001b[0mgene_coords\u001b[0m\u001b[0;34m[\u001b[0m\u001b[0;36m0\u001b[0m\u001b[0;34m]\u001b[0m \u001b[0;34m=\u001b[0m \u001b[0;36m1300\u001b[0m  \u001b[0;31m# Uncommenting this will cause an error because tuples are immutable.\u001b[0m\u001b[0;34m\u001b[0m\u001b[0;34m\u001b[0m\u001b[0m\n\u001b[0m",
            "\u001b[0;31mTypeError\u001b[0m: 'tuple' object does not support item assignment"
          ]
        }
      ]
    },
    {
      "cell_type": "markdown",
      "source": [
        "**Explanation:**\n",
        "\n",
        "*   Tuples are created using parentheses `()`.\n",
        "*   You can access elements just like a list using indices.\n",
        "*   Unlike lists, you cannot modify the elements of a tuple.\n",
        "\n"
      ],
      "metadata": {
        "id": "lgHGKhVHMXgD"
      }
    },
    {
      "cell_type": "markdown",
      "source": [
        "**Example: Storing data in tuples**\n",
        "\n",
        "Imagine we want to store the details of a DNA sequence, such as the species and its length:"
      ],
      "metadata": {
        "id": "l0HLK98RMmyU"
      }
    },
    {
      "cell_type": "code",
      "source": [
        "# Tuple for storing species and DNA sequence length (species, length in base pairs)\n",
        "dna_info = (\"Homo sapiens\", 3200000000)\n",
        "\n",
        "# Accessing elements in the tuple\n",
        "species = dna_info[0]\n",
        "sequence_length = dna_info[1]\n",
        "\n",
        "print(f\"Species: {species}\")\n",
        "print(f\"DNA sequence length: {sequence_length} base pairs\")"
      ],
      "metadata": {
        "id": "m2zAVARWMp8V"
      },
      "execution_count": null,
      "outputs": []
    },
    {
      "cell_type": "markdown",
      "source": [
        "# Sets"
      ],
      "metadata": {
        "id": "cvoPpxqOMwIc"
      }
    },
    {
      "cell_type": "markdown",
      "source": [
        "A **set** is an unordered collection of unique elements. Sets are useful when you need to store distinct items and avoid duplicates.\n",
        "\n",
        "**Example: Storing unique species observed in a study**"
      ],
      "metadata": {
        "id": "sFe7GIzYMxWL"
      }
    },
    {
      "cell_type": "code",
      "source": [
        "# Set of species observed in a study\n",
        "species_observed = [[\"Homo sapiens\", \"Pan troglodytes\"], \"Mus musculus\", \"Drosophila melanogaster\"]\n",
        "\n",
        "# Adding a new species to the set\n",
        "#species_observed.add(\"Danio rerio\")\n",
        "\n",
        "# Removing a species from the set\n",
        "#species_observed.remove(\"Mus musculus\")\n",
        "\n",
        "# Checking membership\n",
        "species_to_check = [\"Homo sapiens\", \"Pan troglodytes\"]\n",
        "other_species_to_check = \"fish\"\n",
        "is_in_study = species_to_check in species_observed\n",
        "\n",
        "print(\"Species observed:\", species_observed)\n",
        "print(f\"Is {species_to_check} in the study?\", is_in_study)"
      ],
      "metadata": {
        "id": "WWPadbHxM4mj",
        "colab": {
          "base_uri": "https://localhost:8080/"
        },
        "outputId": "f2d49df5-f81a-4880-9135-80a15ddfb931"
      },
      "execution_count": null,
      "outputs": [
        {
          "output_type": "stream",
          "name": "stdout",
          "text": [
            "Species observed: [['Homo sapiens', 'Pan troglodytes'], 'Mus musculus', 'Drosophila melanogaster']\n",
            "Is ['Homo sapiens', 'Pan troglodytes'] in the study? True\n"
          ]
        }
      ]
    },
    {
      "cell_type": "markdown",
      "source": [
        "**Explanation:**\n",
        "\n",
        "*   Sets are defined using curly braces `{}`.\n",
        "*   You can add and remove elements from a set, but the elements are unordered and cannot have duplicates.\n",
        "*   Set membership tests (`in`) are efficient, making sets useful for tasks where you need to check for the existence of an item."
      ],
      "metadata": {
        "id": "7Kp_gHI_M60k"
      }
    },
    {
      "cell_type": "markdown",
      "source": [
        "**Example: Intersection and union of two sets**\n",
        "\n",
        "Let's say you want to find common species discussed in two different studies, or combine the results of both studies:"
      ],
      "metadata": {
        "id": "ySONdd-WNK3O"
      }
    },
    {
      "cell_type": "code",
      "source": [
        "# Two sets of species from different studies\n",
        "study_1_species = {\"Homo sapiens\", \"Pan troglodytes\", \"Mus musculus\"}\n",
        "study_2_species = {\"Pan troglodytes\", \"Drosophila melanogaster\", \"Caenorhabditis elegans\"}\n",
        "\n",
        "# Intersection: species common to both studies\n",
        "common_species = study_1_species.intersection(study_2_species)\n",
        "\n",
        "# Union: all species from both studies\n",
        "all_species = study_1_species.union(study_2_species)\n",
        "\n",
        "print(\"Species common to both studies:\", common_species)\n",
        "print(\"All species observed across both studies:\", all_species)"
      ],
      "metadata": {
        "id": "wQ872J4ZNP7w",
        "colab": {
          "base_uri": "https://localhost:8080/"
        },
        "outputId": "8ecd72c3-787c-4c90-af7a-e4bed0d39f22"
      },
      "execution_count": null,
      "outputs": [
        {
          "output_type": "stream",
          "name": "stdout",
          "text": [
            "Species common to both studies: {'Pan troglodytes'}\n",
            "All species observed across both studies: {'Homo sapiens', 'Drosophila melanogaster', 'Pan troglodytes', 'Mus musculus', 'Caenorhabditis elegans'}\n"
          ]
        }
      ]
    },
    {
      "cell_type": "markdown",
      "source": [
        "**Explanation:**\n",
        "\n",
        "*   The `.intersection()` method finds elements present in both sets.\n",
        "*   The `.union()` method combines all elements from both sets, eliminating duplicates."
      ],
      "metadata": {
        "id": "JU4cQHsgNsc2"
      }
    },
    {
      "cell_type": "markdown",
      "metadata": {
        "id": "wmuZdmGuuqt4"
      },
      "source": [
        "# For loops"
      ]
    },
    {
      "cell_type": "markdown",
      "metadata": {
        "id": "vcgK92rnuqt4"
      },
      "source": [
        "Python can also iterate through items in a sequence and perform operations on them using an amazing logical structure called a *for loop*.  \n",
        "\n",
        "The basic syntax of the for loop is simple. You start with a for statement and a colon, then skip to a new line, indent, and outline the action you want to happen with each item in the sequence.\n",
        "\n",
        "    for [item] in [sequence]:\n",
        "      *do something*\n",
        "\n",
        "In this example, [item] is a variable name for the items in this sequence. Each item in the sequence will be assigned to this variable in turn. This kind of variable is called an iterator variable.  \n",
        "\n",
        "Note that you need to define the sequence before writing the for loop, but the iterator variable is defined for the first time within the for loop.\n",
        "\n",
        "Try this example:\n",
        "\n",
        "    b = \"bananas\"  \n",
        "\n",
        "    for letter in b:  \n",
        "\n",
        "      print(letter)"
      ]
    },
    {
      "cell_type": "code",
      "execution_count": null,
      "metadata": {
        "id": "WFRaTrktuqt4",
        "colab": {
          "base_uri": "https://localhost:8080/"
        },
        "outputId": "5f6a014d-6afe-4b97-b8ca-0214bab54785"
      },
      "outputs": [
        {
          "output_type": "stream",
          "name": "stdout",
          "text": [
            "b\n",
            "a\n",
            "n\n",
            "a\n",
            "n\n",
            "a\n",
            "s\n",
            "now we're done\n"
          ]
        }
      ],
      "source": [
        "b = \"bananas\"\n",
        "\n",
        "for zooanimal in b:\n",
        "  print(zooanimal)\n",
        "\n",
        "print(\"now we're done\")"
      ]
    },
    {
      "cell_type": "markdown",
      "metadata": {
        "id": "E6qqRMz1uqt4"
      },
      "source": [
        "You can make this more complex, more silly, or both.  Try this version:\n",
        "    \n",
        "    b = \"bananas\"  \n",
        "\n",
        "    for letter in b:  \n",
        "\n",
        "      print(letter + 'aa')"
      ]
    },
    {
      "cell_type": "code",
      "execution_count": null,
      "metadata": {
        "id": "3eBWU2u9uqt5"
      },
      "outputs": [],
      "source": []
    },
    {
      "cell_type": "markdown",
      "metadata": {
        "id": "tt10uYLmuqt5"
      },
      "source": [
        "For loops are a common way to iterate through the items of a sequence and count them. For this next operation, we'll use a counter variable to count the number of times the letter 'a' appears in the word 'bananas'.\n",
        "\n",
        "*word* is our variable name for the character sequence 'bananas'\n",
        "*letter* is the iterator variable\n",
        "*a_count* is the counter variable; we'll add 1 to this for each 'a' the iterator encounters as it loops through the letters in *word*.\n",
        "\n",
        "Try this code:\n",
        "\n",
        "    word = 'bananas'  \n",
        "\n",
        "    a_count = 0  \n",
        "\n",
        "    for letter in word:  \n",
        "\n",
        "      if letter == 'a':  \n",
        "    \n",
        "        a_count += 1\n",
        "        \n",
        "    print('the letter a appears', a_count, 'times in the word', word)"
      ]
    },
    {
      "cell_type": "code",
      "execution_count": null,
      "metadata": {
        "id": "MgQR9Zzsuqt5",
        "colab": {
          "base_uri": "https://localhost:8080/"
        },
        "outputId": "c53262b7-a6a9-4729-d5e8-02e689dfb4a1"
      },
      "outputs": [
        {
          "output_type": "stream",
          "name": "stdout",
          "text": [
            "a\n",
            "a\n",
            "a\n",
            "the letter a appears 3 times in the word bananas\n"
          ]
        }
      ],
      "source": [
        "word = 'bananas'\n",
        "\n",
        "a_count = 0\n",
        "\n",
        "for letter in word:\n",
        "  if letter == 'a':\n",
        "    a_count += 1\n",
        "    print(letter)\n",
        "\n",
        "print(f'the letter a appears {a_count} times in the word {word}')"
      ]
    },
    {
      "cell_type": "markdown",
      "metadata": {
        "id": "Q5zx3o05uqt5"
      },
      "source": [
        "# While loops"
      ]
    },
    {
      "cell_type": "markdown",
      "source": [
        "If you'd like for a loop to execute until a certain condition is met rather than for all of the items in a sequence, you can use a *while loop* instead. The basic syntax is similar:\n",
        "\n",
        "```\n",
        "while *some condition is true*:\n",
        "  *do something*\n",
        "```\n",
        "\n",
        "The indented block of code will run repeatedly until the condition in the loop declaration is no longer true. For example:\n",
        "\n",
        "```\n",
        "treats_lainey_has_eaten = 0\n",
        "\n",
        "while treats_lainey_has_eaten < 10:\n",
        "  print(\"Lainey ate another treat!\")\n",
        "  treats_lainey_has_eaten += 1\n",
        "```"
      ],
      "metadata": {
        "id": "WuFyLirvZCPZ"
      }
    },
    {
      "cell_type": "code",
      "source": [
        "treats_lainey_has_eaten = 0\n",
        "\n",
        "while treats_lainey_has_eaten < 10:\n",
        "  print(\"Lainey ate another treat!\")\n",
        "  treats_lainey_has_eaten += 1"
      ],
      "metadata": {
        "id": "2OVLASjgcwWv",
        "colab": {
          "base_uri": "https://localhost:8080/"
        },
        "outputId": "c1e89219-2b0b-4c62-c611-192711736b0d"
      },
      "execution_count": null,
      "outputs": [
        {
          "output_type": "stream",
          "name": "stdout",
          "text": [
            "Lainey ate another treat!\n",
            "Lainey ate another treat!\n",
            "Lainey ate another treat!\n",
            "Lainey ate another treat!\n",
            "Lainey ate another treat!\n",
            "Lainey ate another treat!\n",
            "Lainey ate another treat!\n",
            "Lainey ate another treat!\n",
            "Lainey ate another treat!\n",
            "Lainey ate another treat!\n"
          ]
        }
      ]
    },
    {
      "cell_type": "markdown",
      "source": [
        "It's particularly easy to accidentally write a loop that will never end with a while loop! These kinds of loops, known as infinite loops, will run repeatedly until you tell your Python interpreter to stop:\n",
        "\n",
        "```\n",
        "iterations = 0\n",
        "stop = False\n",
        "\n",
        "while not stop:\n",
        "  iterations += 1\n",
        "  print(\"The loop has executed\", str(iterations), \" times.\")\n",
        "  #if iterations == 10:\n",
        "    #stop = True\n",
        "```"
      ],
      "metadata": {
        "id": "qFpe3w0Hc9LC"
      }
    },
    {
      "cell_type": "code",
      "source": [
        "iterations = 0\n",
        "stop = False\n",
        "\n",
        "while not stop:\n",
        "  iterations += 1\n",
        "  print(\"The loop has executed\", str(iterations), \" times.\")\n",
        "  if iterations == 10:\n",
        "    stop = True"
      ],
      "metadata": {
        "id": "S8euXpigd0wX",
        "colab": {
          "base_uri": "https://localhost:8080/"
        },
        "outputId": "8a21f892-1cda-4f11-8b21-1c13ad7df99c"
      },
      "execution_count": null,
      "outputs": [
        {
          "output_type": "stream",
          "name": "stdout",
          "text": [
            "The loop has executed 1  times.\n",
            "The loop has executed 2  times.\n",
            "The loop has executed 3  times.\n",
            "The loop has executed 4  times.\n",
            "The loop has executed 5  times.\n",
            "The loop has executed 6  times.\n",
            "The loop has executed 7  times.\n",
            "The loop has executed 8  times.\n",
            "The loop has executed 9  times.\n",
            "The loop has executed 10  times.\n"
          ]
        }
      ]
    },
    {
      "cell_type": "markdown",
      "source": [
        "Now remove the pound signs from the two lines above and run the cell again. You can (and should) use pound signs to add comments to your code as you write it, but be careful not to put them in front of lines that you actually need to run.\n",
        "\n",
        "This code snippet introduces two other new concepts:\n",
        "\n",
        "1.   The *not* operator, which inverts a boolean value\n",
        "2.   The *str* function, which converts a value to a string - if you think back to one of our first exercises, we used the similar *int* function to convert a value into an integer\n",
        "\n",
        "As with lists and dictionaries above, there's no reason that you can't combine different kinds of loops:\n",
        "\n",
        "```\n",
        "months = [{\"name\": \"august\", \"length\": 31}, {\"name\": \"september\", \"length\": 30}, {\"name\":\"october\", \"length\": 31}]\n",
        "\n",
        "for month in months:\n",
        "  day = 0\n",
        "  while day < month[\"length\"]:\n",
        "    day += 1\n",
        "    print(month[\"name\"], day)    \n",
        "```"
      ],
      "metadata": {
        "id": "-2IQLM-Kd6bl"
      }
    },
    {
      "cell_type": "code",
      "source": [
        "months = [{\"name\": \"august\", \"length\": 31}, {\"name\": \"september\", \"length\": 30}, {\"name\":\"october\", \"length\": 31}]\n",
        "\n",
        "for month in months:\n",
        "  day = 1\n",
        "  while day <= month[\"length\"]:\n",
        "    print(month[\"name\"], day)\n",
        "    day += 1"
      ],
      "metadata": {
        "id": "Z6vg-jmRfh5U",
        "colab": {
          "base_uri": "https://localhost:8080/"
        },
        "outputId": "56230181-7ec4-4cbb-f9ac-06470f86ca81"
      },
      "execution_count": null,
      "outputs": [
        {
          "output_type": "stream",
          "name": "stdout",
          "text": [
            "august 1\n",
            "august 2\n",
            "august 3\n",
            "august 4\n",
            "august 5\n",
            "august 6\n",
            "august 7\n",
            "august 8\n",
            "august 9\n",
            "august 10\n",
            "august 11\n",
            "august 12\n",
            "august 13\n",
            "august 14\n",
            "august 15\n",
            "august 16\n",
            "august 17\n",
            "august 18\n",
            "august 19\n",
            "august 20\n",
            "august 21\n",
            "august 22\n",
            "august 23\n",
            "august 24\n",
            "august 25\n",
            "august 26\n",
            "august 27\n",
            "august 28\n",
            "august 29\n",
            "august 30\n",
            "august 31\n",
            "september 1\n",
            "september 2\n",
            "september 3\n",
            "september 4\n",
            "september 5\n",
            "september 6\n",
            "september 7\n",
            "september 8\n",
            "september 9\n",
            "september 10\n",
            "september 11\n",
            "september 12\n",
            "september 13\n",
            "september 14\n",
            "september 15\n",
            "september 16\n",
            "september 17\n",
            "september 18\n",
            "september 19\n",
            "september 20\n",
            "september 21\n",
            "september 22\n",
            "september 23\n",
            "september 24\n",
            "september 25\n",
            "september 26\n",
            "september 27\n",
            "september 28\n",
            "september 29\n",
            "september 30\n",
            "october 1\n",
            "october 2\n",
            "october 3\n",
            "october 4\n",
            "october 5\n",
            "october 6\n",
            "october 7\n",
            "october 8\n",
            "october 9\n",
            "october 10\n",
            "october 11\n",
            "october 12\n",
            "october 13\n",
            "october 14\n",
            "october 15\n",
            "october 16\n",
            "october 17\n",
            "october 18\n",
            "october 19\n",
            "october 20\n",
            "october 21\n",
            "october 22\n",
            "october 23\n",
            "october 24\n",
            "october 25\n",
            "october 26\n",
            "october 27\n",
            "october 28\n",
            "october 29\n",
            "october 30\n",
            "october 31\n"
          ]
        }
      ]
    },
    {
      "cell_type": "markdown",
      "source": [
        "Let's break down what's happening here. First, our for loop is iterating across the three elements in our list, each of which is a dictionary describing a month of the year with a couple of key-value pairs in it.\n",
        "\n",
        "On each iteration of the for loop, our nested while loop will run and print out the days of each month until it reaches the \"end\" of that month, as defined by its \"length\" key.\n",
        "\n",
        "Can you modify the code to include another month?\n",
        "\n",
        "What if we only wanted to print out even months? There's many different ways to achieve that, but one makes use of the *continue* keyword. Any time our Python interpreter hits a continue inside of a loop, it will immediately move on to the next iteration of that loop. For example:\n",
        "\n",
        "```\n",
        "months = [{\"name\": \"august\", \"length\": 31}, {\"name\": \"september\", \"length\": 30}, {\"name\":\"october\", \"length\": 31}]\n",
        "\n",
        "for month in months:\n",
        "  day = 0\n",
        "  while day < month[\"length\"]:\n",
        "    day += 1\n",
        "    if day % 2 != 0:      \n",
        "      continue\n",
        "    print(month[\"name\"], day)    \n",
        "```"
      ],
      "metadata": {
        "id": "xkOdR46FfuLh"
      }
    },
    {
      "cell_type": "code",
      "source": [
        "months = [{\"name\": \"august\", \"length\": 31}, {\"name\": \"september\", \"length\": 30}, {\"name\":\"october\", \"length\": 31}]\n",
        "\n",
        "for month in months:\n",
        "  day = 0\n",
        "  while day < month[\"length\"]:\n",
        "    day += 1\n",
        "    if day % 2 != 0:\n",
        "      continue\n",
        "    print(month[\"name\"], day)"
      ],
      "metadata": {
        "id": "nr6SSEqng5T_",
        "colab": {
          "base_uri": "https://localhost:8080/"
        },
        "outputId": "e71f3d75-188a-4e52-f204-93e860192387"
      },
      "execution_count": null,
      "outputs": [
        {
          "output_type": "stream",
          "name": "stdout",
          "text": [
            "august 2\n",
            "august 4\n",
            "august 6\n",
            "august 8\n",
            "august 10\n",
            "august 12\n",
            "august 14\n",
            "august 16\n",
            "august 18\n",
            "august 20\n",
            "august 22\n",
            "august 24\n",
            "august 26\n",
            "august 28\n",
            "august 30\n",
            "september 2\n",
            "september 4\n",
            "september 6\n",
            "september 8\n",
            "september 10\n",
            "september 12\n",
            "september 14\n",
            "september 16\n",
            "september 18\n",
            "september 20\n",
            "september 22\n",
            "september 24\n",
            "september 26\n",
            "september 28\n",
            "september 30\n",
            "october 2\n",
            "october 4\n",
            "october 6\n",
            "october 8\n",
            "october 10\n",
            "october 12\n",
            "october 14\n",
            "october 16\n",
            "october 18\n",
            "october 20\n",
            "october 22\n",
            "october 24\n",
            "october 26\n",
            "october 28\n",
            "october 30\n"
          ]
        }
      ]
    },
    {
      "cell_type": "markdown",
      "source": [
        "We've substantially changed how this code behaves simply by adding an if statement! That if statement uses a couple of new concepts to allow us to skip odd days of the month:\n",
        "\n",
        "1.   The modulo operator (%), which returns the remainder when the integer on the left is divided by the integer on the right. What's the remainder when an even number is divided by 2?\n",
        "2.   The not equal to operator (!=), which returns the logical inverse of the equal to operator (==) that we learned about earlier.\n",
        "\n",
        "Together, these operators give us an if statement that will trigger for all odd days of the month, and when it does, we hit a continue keyword, which immediately skips to the next iteration of the loop with executing any more code.\n",
        "\n",
        "If, instead of continuing the loop, we wanted to stop it as soon as we hit a certain keyword, the keyword that we would want to use is *break*. Can you modify the loop so that it only prints out the first 10 days of each month?"
      ],
      "metadata": {
        "id": "HpAJsUdthRr5"
      }
    },
    {
      "cell_type": "markdown",
      "source": [
        "# Defining functions"
      ],
      "metadata": {
        "id": "yQ2yKjiGi6oV"
      }
    },
    {
      "cell_type": "markdown",
      "source": [
        "If there isn't a built-in function or method that does what you want to do, you can make your own! You're probably sensing the pattern by now, but the basic syntax to define your own function is quite simple:\n",
        "\n",
        "```\n",
        "def *your function name*(*your function parameters*):\n",
        "  *do something*\n",
        "  return *some value* <- this is optional\n",
        "```\n",
        "\n",
        "For example:\n",
        "\n",
        "```\n",
        "def add_two_numbers(x, y):\n",
        "  return x + y\n",
        "\n",
        "print(add_two_numbers(4, 5))\n",
        "```"
      ],
      "metadata": {
        "id": "2tiZrR69i89M"
      }
    },
    {
      "cell_type": "code",
      "source": [
        "def add_two_numbers(x, y):\n",
        "  z = x + y\n",
        "\n",
        "  print(\"hello!\")\n",
        "\n",
        "\n",
        "add_two_numbers(4, 5)\n"
      ],
      "metadata": {
        "id": "L_hc_t_wupSs",
        "colab": {
          "base_uri": "https://localhost:8080/"
        },
        "outputId": "52b22128-5e7a-40d3-da3d-7728d367bfb5"
      },
      "execution_count": null,
      "outputs": [
        {
          "output_type": "stream",
          "name": "stdout",
          "text": [
            "hello!\n"
          ]
        }
      ]
    },
    {
      "cell_type": "markdown",
      "source": [
        "What happens if you change the code above and instead pass one string and one integer to your function as arguments? (\"parameters\" refer to the input variables that you ask for in your function defintion, and \"arguments\" are the actual values that you supply when calling the function) This is one of the many reasons why documenting your code is important!\n",
        "\n",
        "Any parameter like x and y in the code snippet above that appear in a function definition without a default value are required. You can also include additional parameters with default values that then become optional:\n",
        "\n",
        "```\n",
        "def add_two_or_three_numbers(x, y, z = 0):\n",
        "  return x + y + z\n",
        "\n",
        "print(add_two_or_three_numbers(4, 5))\n",
        "print(add_two_or_three_numbers(4, 5, z = 6))\n",
        "```\n",
        "\n",
        "Note that you have to explicitly reference the name given to optional parameters in the function definition in order to supply them."
      ],
      "metadata": {
        "id": "C65a5otTvDY1"
      }
    },
    {
      "cell_type": "code",
      "source": [
        "def add_two_or_three_numbers(x, y, z=0, a=4):\n",
        "  return x + y + z + a\n",
        "\n",
        "print(add_two_or_three_numbers(4, 5))\n",
        "print(add_two_or_three_numbers(4, 5, a=6, z=0))"
      ],
      "metadata": {
        "id": "btz6rqmMwgv5",
        "colab": {
          "base_uri": "https://localhost:8080/"
        },
        "outputId": "fa1dd315-0fbd-4519-9795-5d913e9441d9"
      },
      "execution_count": null,
      "outputs": [
        {
          "output_type": "stream",
          "name": "stdout",
          "text": [
            "13\n",
            "15\n"
          ]
        }
      ]
    },
    {
      "cell_type": "markdown",
      "source": [
        "But why would you want to go through the trouble of defining functions rather than simply writing the code in the middle of your script? There are many reasons! Some of the important ones include avoiding the duplication of code, making your code more legible, or making it easier to share your code. Can you think of others?"
      ],
      "metadata": {
        "id": "R_pL7s7Twt3H"
      }
    },
    {
      "cell_type": "markdown",
      "source": [
        "# Importing packages"
      ],
      "metadata": {
        "id": "W4M_vmhTi9ae"
      }
    },
    {
      "cell_type": "markdown",
      "source": [
        "Python has a ton of functionality built in, and the ability to write your own functions extends the range of things you can do even further, but what if someone else has written some code for a common use case that you'd like to be able to use? Luckily, this is easy to do! And because of the wide adoption of python, [**packages** exist for just about anything that you're interested in doing](https://pypi.org/).\n",
        "\n",
        "The [pip package manager](https://pypi.org/project/pip/) is a tool that is commonly used to install and manage Python packages. If/when you're writing Python outside of a Jupyter Notebook, you'll typically interact with pip on the command line, but here we can interact with it directly through the Colab interface.\n",
        "\n",
        "You can do so using this syntax:\n",
        "\n",
        "```\n",
        "!pip install *package name*\n",
        "```\n",
        "\n",
        "The exclamation mark tells Jupyter that the line of code that follows should be interpreted as a terminal command. Try this:\n",
        "\n",
        "```\n",
        "!pip install wordcloud\n",
        "\n",
        "import wordcloud\n",
        "\n",
        "words = \"these are some words words words to make a word cloud cloud out of\"\n",
        "\n",
        "wc = wordcloud.WordCloud(background_color=\"white\", max_words=5000, contour_width=3, contour_color='steelblue')\n",
        "\n",
        "wc.generate(words)\n",
        "\n",
        "wc.to_image()\n",
        "```\n",
        "\n",
        "Don't worry if you don't understand all of the syntax in this snippet, the key takeaway is to see how we're installing and importing the wordcloud package."
      ],
      "metadata": {
        "id": "gumdLPyajClS"
      }
    },
    {
      "cell_type": "code",
      "source": [
        "!conda install wordcloud\n",
        "\n",
        "import wordcloud\n",
        "\n",
        "words = \"these are some words words words to make a word cloud cloud out of\"\n",
        "\n",
        "wc = wordcloud.WordCloud(background_color=\"white\", max_words=5000, contour_width=3, contour_color='steelblue')\n",
        "\n",
        "wc.generate(words)\n",
        "\n",
        "wc.to_image()"
      ],
      "metadata": {
        "id": "Wj17Q6kEzV9T",
        "colab": {
          "base_uri": "https://localhost:8080/",
          "height": 217
        },
        "outputId": "4eb62801-eb0f-4481-afb0-04bbd09728bc"
      },
      "execution_count": null,
      "outputs": [
        {
          "output_type": "execute_result",
          "data": {
            "text/plain": [
              "<PIL.Image.Image image mode=RGB size=400x200>"
            ],
            "image/png": "[encoded data removed]"
          },
          "metadata": {},
          "execution_count": 39
        }
      ]
    },
    {
      "cell_type": "markdown",
      "source": [
        "If you don't want to import all of the functions in a package, you can use this syntax:\n",
        "\n",
        "```\n",
        "from *package name* import *function name*\n",
        "```\n",
        "\n",
        "For example, this code will work the same as the snippet above:\n",
        "\n",
        "```\n",
        "#!pip install wordcloud\n",
        "\n",
        "from wordcloud import WordCloud\n",
        "\n",
        "words = \"these are some words words words to make a word cloud cloud out of\"\n",
        "\n",
        "wc = WordCloud(background_color=\"white\", max_words=5000, contour_width=3, contour_color='steelblue')\n",
        "\n",
        "wc.generate(words)\n",
        "\n",
        "wc.to_image()\n",
        "```\n",
        "\n",
        "The first line is commented out because if you already installed wordcloud during this Colab session you won't need to again. Notice how the line where we call the WordCloud function changed. Can you figure out why this is?"
      ],
      "metadata": {
        "id": "UNEpaetVzeH6"
      }
    },
    {
      "cell_type": "code",
      "source": [],
      "metadata": {
        "id": "dbRQRTWM0Ake"
      },
      "execution_count": null,
      "outputs": []
    },
    {
      "cell_type": "markdown",
      "source": [
        "Finally, if you want to change (usually shorten) the names of packages or functions that you're importing, you can use the **as** keyword. This code will also work the same as the two previous snippets:\n",
        "\n",
        "```\n",
        "# !pip install wordcloud\n",
        "\n",
        "from wordcloud import WordCloud as wc\n",
        "\n",
        "words = \"these are some words words words to make a word cloud cloud out of\"\n",
        "\n",
        "wc = wc(background_color=\"white\", max_words=5000, contour_width=3, contour_color='steelblue')\n",
        "\n",
        "wc.generate(words)\n",
        "\n",
        "wc.to_image()\n",
        "```\n",
        "\n",
        "Again, the only change is to the line where we call the WordCloud function. What does \"wc\" refer to on the left side of the equal sign? What does it refer to on the right side?"
      ],
      "metadata": {
        "id": "zIIZJvrd0FnH"
      }
    },
    {
      "cell_type": "code",
      "source": [
        "# !pip install wordcloud\n",
        "\n",
        "from wordcloud import WordCloud as woc\n",
        "\n",
        "words = \"these are some words words words to make a word cloud cloud out of\"\n",
        "\n",
        "wc = woc(background_color=\"white\", max_words=5000, contour_width=3, contour_color='steelblue')\n",
        "\n",
        "wc.generate(words)\n",
        "\n",
        "wc.to_image()"
      ],
      "metadata": {
        "id": "qjGL5dW-0cux"
      },
      "execution_count": null,
      "outputs": []
    },
    {
      "cell_type": "markdown",
      "source": [
        "# Reading and writing files"
      ],
      "metadata": {
        "id": "JP5wIpgAjC-n"
      }
    },
    {
      "cell_type": "markdown",
      "source": [
        "Since we're in the business of working with text here, how might we actually go about interacting with a text file? We can do that with the built-in *open* function:\n",
        "\n",
        "```\n",
        "with open(*path to your file*, \"r\") as infile:\n",
        "  *read the file*\n",
        "```\n",
        "\n",
        "The open function requires two arguments: the path to the file that you want to open and a flag telling Python what you want to do with the file. Here we've passed in \"r\" as our flag to indicate that we want to *R*ead the file. You can also passing in an optional \"encoding\" argument if you know what form of [character encoding](https://en.wikipedia.org/wiki/Character_encoding) your file uses.\n",
        "\n",
        "In order to try reading a file, we're going to need a file to read. You can either create your own text file or [download this one](https://drive.google.com/file/d/1vK96xMfgBokhWHjANAGmn1k-WNuso_Bk/view?usp=sharing). Once you have a file ready, click on the folder icon on the left side of the screen and upload the file to the Colab environment. Then try:\n",
        "\n",
        "```\n",
        "with open(*path to your file*, \"r\") as infile:\n",
        "  for line in infile:\n",
        "    print(line)\n",
        "```\n",
        "\n",
        "Recall the difference between absolute paths and relative paths. It's important to get comfortable navigating the file structure on your computer! For now, though, since you've uploaded the text file directly to your Colab environment, you can simply substitute the name of the file (including the file extension) as a string for \"path to your file\" in the code snippet."
      ],
      "metadata": {
        "id": "a0TbPjPrjMAF"
      }
    },
    {
      "cell_type": "code",
      "source": [],
      "metadata": {
        "id": "4vAiQ6cM4Lgu"
      },
      "execution_count": null,
      "outputs": []
    },
    {
      "cell_type": "markdown",
      "source": [
        "If everything worked correctly, you should see the lyrics to \"Baby Shark\" output above. You're welcome.\n",
        "\n",
        "Last but not least, what if we wanted to write to a file rather than read it? In that case, all that we need to do is change \"r\" to \"w\" when we call the open function:\n",
        "\n",
        "```\n",
        "path = *path to your file*\n",
        "\n",
        "with open(path, \"w\") as outfile:\n",
        "  outfile.write(\"Hello world!\")\n",
        "\n",
        "with open(path, \"r\") as infile:\n",
        "  for line in infile:\n",
        "    print(line)\n",
        "```\n",
        "\n",
        "Note how we save the path to the file as a variable so that we don't have to write it out twice (and improve the readability of our code)."
      ],
      "metadata": {
        "id": "mgo__AJf4XwZ"
      }
    },
    {
      "cell_type": "code",
      "source": [],
      "metadata": {
        "id": "_O9zhAy346mb"
      },
      "execution_count": null,
      "outputs": []
    },
    {
      "cell_type": "markdown",
      "source": [
        "Our file only contains \"Hello world!\" now because the open function overwrites all existing file content by default. You can download the updated file to confirm this - be careful not to overwrite important information!"
      ],
      "metadata": {
        "id": "qDr8tIuf5LXY"
      }
    },
    {
      "cell_type": "markdown",
      "source": [
        "# Conclusion"
      ],
      "metadata": {
        "id": "JbRy8ppf5hwN"
      }
    },
    {
      "cell_type": "markdown",
      "source": [
        "If you have a solid grasp of the concepts covered in this notebook, you're more than a Python novice - you genuinely have all of the information that you need to do some very complicated things. The challenge (and power) of using Python, or any other programming language, comes in understanding how best to leverage and combine different data structures, functions, and logical constructs to achieve a particular purpose.\n",
        "\n",
        "Once you're comfortable with the basics, the best way to learn more is to go write some code. Programming knowledge scales exponentially, as each thing you figure out how to do unlocks multiple others in combination with the other things that you already know how to do!"
      ],
      "metadata": {
        "id": "gKEJ59lt5jzu"
      }
    }
  ],
  "metadata": {
    "kernelspec": {
      "display_name": "Python 3",
      "language": "python",
      "name": "python3"
    },
    "language_info": {
      "codemirror_mode": {
        "name": "ipython",
        "version": 3
      },
      "file_extension": ".py",
      "mimetype": "text/x-python",
      "name": "python",
      "nbconvert_exporter": "python",
      "pygments_lexer": "ipython3",
      "version": "3.4.9"
    },
    "colab": {
      "provenance": [],
      "include_colab_link": true
    }
  },
  "nbformat": 4,
  "nbformat_minor": 0
}